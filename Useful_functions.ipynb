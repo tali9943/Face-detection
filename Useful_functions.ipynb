{
 "cells": [
  {
   "cell_type": "markdown",
   "id": "13dbcca9",
   "metadata": {},
   "source": [
    "# Useful Functions for S&P and V&J\n",
    "\n"
   ]
  },
  {
   "cell_type": "markdown",
   "id": "9b6e9236",
   "metadata": {},
   "source": [
    "Into this Jupyter file we have **implemented some functions** used for *Sung and Poggio* and *Viola and Jones* models.\n",
    "We have decided "
   ]
  },
  {
   "cell_type": "markdown",
   "id": "43eec9ef",
   "metadata": {},
   "source": [
    "To import function from thise file to another jupyter file we have to import these modules:"
   ]
  },
  {
   "cell_type": "code",
   "execution_count": 1,
   "id": "ea39159d",
   "metadata": {},
   "outputs": [],
   "source": [
    "import zipfile\n",
    "import os\n",
    "import datasets\n",
    "import requests\n",
    "import pandas as pd"
   ]
  },
  {
   "cell_type": "markdown",
   "id": "94bdd067",
   "metadata": {},
   "source": [
    "This is the line code used from the jupyter files *Viola_Jones* and *Sung_Poggio* used to import functions from this file"
   ]
  },
  {
   "cell_type": "code",
   "execution_count": 8,
   "id": "9e75aac2",
   "metadata": {},
   "outputs": [],
   "source": [
    "#from ipynb.fs.defs.Useful_functions import \"+ name of the function\""
   ]
  },
  {
   "cell_type": "markdown",
   "id": "9d865918",
   "metadata": {},
   "source": [
    "## Functions:"
   ]
  },
  {
   "cell_type": "markdown",
   "id": "4d8c416a",
   "metadata": {},
   "source": [
    "We have implemented a function that **draws red rectangles** on an image when a windows of fixed dimensions (19x19 for *Sung and Poggio* and 24x24 for *Viola and Jones*) gives a positive result for our trained model."
   ]
  },
  {
   "cell_type": "code",
   "execution_count": 3,
   "id": "02fcb565",
   "metadata": {},
   "outputs": [],
   "source": [
    "import matplotlib.pyplot as plt\n",
    "from PIL import Image, ImageDraw\n",
    "import numpy as np\n",
    "\n",
    "\n",
    "\"\"\"\n",
    "Function that draw red rectangles on the image given a list of coordinates (x, y, h, w) and a PIL image object.\n",
    "It returns an the same input images covered by a red bounding boxe drawn into the image, hopefully on the faces\n",
    "\"\"\"\n",
    "def draw_red_rectangles_on_image(image, coordinates):\n",
    "\n",
    "    # Converting the image to a numpy array for plotting\n",
    "    image_np = np.array(image)\n",
    "\n",
    "    # Creating an ImageDraw object to draw on the photo\n",
    "    draw = ImageDraw.Draw(image)\n",
    "\n",
    "    # Defining the red color (R, G, B)\n",
    "    red_color = (255, 0, 0)\n",
    "\n",
    "    # Drawing the red rectangles on the image\n",
    "    x, y, h, w = coordinates\n",
    "    draw.rectangle([x, y, x + w, y + h], outline=red_color)\n",
    "\n",
    "    # Converting the image back to PIL format\n",
    "    image_with_rectangles = Image.fromarray(np.uint8(image_np))\n",
    "    \n",
    "    # Returning the new image with the red bounding boxes\n",
    "    return image_with_rectangles"
   ]
  },
  {
   "cell_type": "markdown",
   "id": "351a01a5",
   "metadata": {},
   "source": [
    "### Non-Maximum Suppression"
   ]
  },
  {
   "cell_type": "markdown",
   "id": "774f9f82",
   "metadata": {},
   "source": [
    "The **Non-Maximum Suppression** (**NMS**) is a technique used for deleting the overlapping bounding boxes that gave positive results to the model. This technique is applied from both the *Viola and Jones* and *Sung and Poggio* models when "
   ]
  },
  {
   "cell_type": "code",
   "execution_count": 4,
   "id": "47029bb4",
   "metadata": {},
   "outputs": [],
   "source": [
    "import numpy as np\n",
    "\n",
    "\"\"\"\n",
    "This is a Non-Maximum Suppression (NMS) function to eliminate overlapping bounding boxes.\n",
    "\n",
    "Arguments in input:\n",
    "    coordinates_window (list): A list of bounding box coordinates in the format [x, y, w, h].\n",
    "    overlapThresh (float, optional): The threshold value representing the minimum overlap required to consider two bounding boxes as the same object. Defaults to 0.8.\n",
    "\n",
    "Returns:\n",
    "    list: A new list of bounding boxes after NMS has been applied.\n",
    "\"\"\"\n",
    "def NMS(coordinates_window, overlapThresh):\n",
    "\n",
    "    # Return an empty list if no bounding boxes are given\n",
    "    if len(coordinates_window) == 0:\n",
    "        return []\n",
    "\n",
    "    # Extract the coordinates of bounding boxes\n",
    "    x1 = np.array([box[0] for box in coordinates_window])\n",
    "    y1 = np.array([box[1] for box in coordinates_window])\n",
    "    x2 = np.array([box[0] + box[2] for box in coordinates_window])\n",
    "    y2 = np.array([box[1] + box[3] for box in coordinates_window])\n",
    "    areas = (x2 - x1 + 1) * (y2 - y1 + 1)\n",
    "    indices = np.arange(len(x1))\n",
    "\n",
    "    # Perform Non-Maximum Suppression\n",
    "    for i, box in enumerate(coordinates_window):\n",
    "        temp_indices = indices[indices != i]\n",
    "        xx1 = np.maximum(box[0], x1[temp_indices])\n",
    "        yy1 = np.maximum(box[1], y1[temp_indices])\n",
    "        xx2 = np.minimum(box[0] + box[2], x2[temp_indices])\n",
    "        yy2 = np.minimum(box[1] + box[3], y2[temp_indices])\n",
    "        w = np.maximum(0, xx2 - xx1 + 1)\n",
    "        h = np.maximum(0, yy2 - yy1 + 1)\n",
    "        overlap = (w * h) / areas[temp_indices]\n",
    "\n",
    "        if np.any(overlap > overlapThresh):\n",
    "            # Remove the current box index (i) from the list of indices to suppress the current box\n",
    "            indices = indices[indices != i]\n",
    "\n",
    "    # Return the remaining non-overlapping bounding boxes\n",
    "    return [coordinates_window[i] for i in indices]\n"
   ]
  },
  {
   "cell_type": "markdown",
   "id": "960bfe9c",
   "metadata": {},
   "source": [
    "We also implement a function that ***filters all the windows*** that have slided the image and that gave positive results from both the models."
   ]
  },
  {
   "cell_type": "code",
   "execution_count": 5,
   "id": "f40e5a67",
   "metadata": {},
   "outputs": [],
   "source": [
    "\"\"\"\n",
    "Function that creates a coordinated list which contains only the bounding boxes with the true label, given the coordinates of the window \n",
    "and the list of boolean labels\n",
    "\"\"\"\n",
    "def filter_boxes_by_boolean(coordinates_window, boolean_list):\n",
    "    if len(coordinates_window) != len(boolean_list):\n",
    "        raise ValueError(\"The input lists must have the same length.\")\n",
    "    \n",
    "    boolean_array = np.array(boolean_list)\n",
    "    filtered_boxes = np.array(coordinates_window)[boolean_array]\n",
    "    \n",
    "    return filtered_boxes.tolist()"
   ]
  },
  {
   "cell_type": "markdown",
   "id": "4e837cbc",
   "metadata": {},
   "source": [
    "We have implemented a function that ***merges the neighboring bounding boxes*** by a specified distance in order to reducing the number of final bounding boxes that maybe are selecting the same face but there could be some classification errors on the coordinates of the positive windows."
   ]
  },
  {
   "cell_type": "code",
   "execution_count": 6,
   "id": "4418ab4e",
   "metadata": {},
   "outputs": [],
   "source": [
    "import numpy as np\n",
    "\n",
    "\n",
    "\"\"\"\n",
    "The merge_nearby_boxes function is intended to merge neighboring bounding boxes by a specified distance, \n",
    "creating resulting bounding boxes that enclose groups of adjacent or neighboring bounding boxes.\n",
    "\"\"\"\n",
    "def merge_nearby_boxes(bounding_boxes, mergeDistance):\n",
    "    # Check if there are no bounding boxes\n",
    "    if len(bounding_boxes) == 0:\n",
    "        return []\n",
    "\n",
    "    # Convert bounding_boxes to a NumPy array\n",
    "    bounding_boxes = np.array(bounding_boxes)\n",
    "    \n",
    "    # Calculate the center of each bounding box\n",
    "    box_centers = bounding_boxes[:, :2] + bounding_boxes[:, 2:] / 2\n",
    "    \n",
    "    # Calculate distances between box centers\n",
    "    distances = np.linalg.norm(box_centers[:, np.newaxis, :] - box_centers, axis=2)\n",
    "\n",
    "    # Set to keep track of merged indices\n",
    "    merged_indices = set()\n",
    "    merged_boxes = []\n",
    "\n",
    "    # Iterate over each bounding box\n",
    "    for i in range(len(bounding_boxes)):\n",
    "        if i in merged_indices:\n",
    "            continue\n",
    "\n",
    "        # Find nearby bounding boxes\n",
    "        nearby_indices = np.where((distances[i] < mergeDistance) & (~np.isin(np.arange(len(bounding_boxes)), list(merged_indices))))[0]\n",
    "        \n",
    "        if nearby_indices.size > 0:\n",
    "            # Update merged indices\n",
    "            merged_indices.update(nearby_indices)\n",
    "            merged_indices.add(i)\n",
    "            \n",
    "            # Calculate the mean of nearby bounding boxes\n",
    "            merged_box = np.mean(bounding_boxes[nearby_indices], axis=0)\n",
    "            merged_boxes.append([int(coord) for coord in merged_box])\n",
    "        else:\n",
    "            # If no nearby bounding boxes, keep the current box\n",
    "            merged_boxes.append([int(coord) for coord in bounding_boxes[i]])\n",
    "\n",
    "    return merged_boxes"
   ]
  }
 ],
 "metadata": {
  "kernelspec": {
   "display_name": "Python 3 (ipykernel)",
   "language": "python",
   "name": "python3"
  },
  "language_info": {
   "codemirror_mode": {
    "name": "ipython",
    "version": 3
   },
   "file_extension": ".py",
   "mimetype": "text/x-python",
   "name": "python",
   "nbconvert_exporter": "python",
   "pygments_lexer": "ipython3",
   "version": "3.10.9"
  }
 },
 "nbformat": 4,
 "nbformat_minor": 5
}
